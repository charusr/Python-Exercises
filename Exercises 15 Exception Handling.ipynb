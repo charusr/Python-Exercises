{
 "cells": [
  {
   "cell_type": "code",
   "execution_count": 8,
   "metadata": {},
   "outputs": [],
   "source": [
    "## 15.1 Rational Numbers \n",
    "\n",
    "# (c) Greatest common denominator\n",
    "\n",
    "def gcd(a, b):                     \n",
    "    if b == 0:\n",
    "        return a\n",
    "    else:\n",
    "        return gcd(b, a % b)\n",
    "\n",
    "    \n",
    "# (a) Defining the class\n",
    "\n",
    "class Rational:                   \n",
    "    \n",
    "    def __init__(self, p, q=1):\n",
    "        \n",
    "        if q == 0:\n",
    "            raise ZeroDivisionError('denominator is zero')\n",
    "            \n",
    "        g = gcd(p, q)\n",
    "        \n",
    "        self.p = p // g\n",
    "        self.q = q // g\n",
    "        \n",
    "         \n",
    "    def __repr__(self):\n",
    "        return \"Rational({},{})\".format(self.p,self.q)\n",
    "\n",
    "# (b) Print p/q \n",
    "\n",
    "    def __str__(self):          \n",
    "        return \"{} / {}\".format(self.p,self.q)\n",
    "\n",
    "# (d) Add 2 rational numbers \n",
    "\n",
    "    def __add__(self, other):\n",
    "        p = self.p * other.q + other.p * self.q\n",
    "        q = self.q * other.q\n",
    "        return Rational(p, q)\n",
    "    \n",
    "# (e) Subtract 2 rational numbers \n",
    "\n",
    "    def __sub__(self, other):\n",
    "        p = self.p * other.q - other.p * self.q\n",
    "        q = self.q * other.q\n",
    "        return Rational(p, q)\n",
    "\n",
    "    \n",
    "# (f) Mulitply 2 rational numbers \n",
    "\n",
    "    def __mul__(self, other):\n",
    "        p = (self.p * other.q) * (other.p * self.q)\n",
    "        q = self.q * other.q\n",
    "        return Rational(p, q)\n",
    "\n",
    "    \n",
    "# (g) Floor divide 2 rational numbers \n",
    "\n",
    "    def __sub__(self, other):\n",
    "        \n",
    "        p = (self.p * other.q) / (other.p * self.q)\n",
    "        q = self.q * other.q\n",
    "        \n",
    "        return Rational(p, q)\n",
    "\n",
    "    \n",
    "# (h) True divide 2 rational numbers \n",
    "\n",
    "    def __sub__(self, other):\n",
    "        \n",
    "        p = ((self.p * other.q) * 1.0) / (other.p * self.q)\n",
    "        q = self.q * other.q\n",
    "        \n",
    "        return Rational(p, q)\n",
    "\n",
    "    \n",
    "# (i) Are equal \n",
    "\n",
    "    def __isEqual__(self, other): \n",
    "        if self.p == other.p and self.q == other.q: \n",
    "            return True\n",
    "        return False \n",
    "\n",
    "# (j) Convert to float \n",
    "\n",
    "    def __toFloat__(self): \n",
    "        p = self.p * 1.0 \n",
    "        q = self.q * 1.0 \n",
    "        return Rational(p,q)  "
   ]
  },
  {
   "cell_type": "code",
   "execution_count": 10,
   "metadata": {},
   "outputs": [
    {
     "ename": "ZeroDivisionError",
     "evalue": "denominator is zero",
     "output_type": "error",
     "traceback": [
      "\u001b[0;31m---------------------------------------------------------------------------\u001b[0m",
      "\u001b[0;31mZeroDivisionError\u001b[0m                         Traceback (most recent call last)",
      "\u001b[0;32m<ipython-input-10-e8fe7db57a5e>\u001b[0m in \u001b[0;36m<module>\u001b[0;34m()\u001b[0m\n\u001b[0;32m----> 1\u001b[0;31m \u001b[0mnew_rational\u001b[0m \u001b[0;34m=\u001b[0m \u001b[0mRational\u001b[0m\u001b[0;34m(\u001b[0m\u001b[0;36m1\u001b[0m\u001b[0;34m,\u001b[0m\u001b[0;36m0\u001b[0m\u001b[0;34m)\u001b[0m \u001b[0;34m+\u001b[0m \u001b[0mRational\u001b[0m\u001b[0;34m(\u001b[0m\u001b[0;36m3\u001b[0m\u001b[0;34m,\u001b[0m\u001b[0;36m4\u001b[0m\u001b[0;34m)\u001b[0m\u001b[0;34m\u001b[0m\u001b[0m\n\u001b[0m\u001b[1;32m      2\u001b[0m \u001b[0mprint\u001b[0m\u001b[0;34m(\u001b[0m\u001b[0mnew_rational\u001b[0m\u001b[0;34m)\u001b[0m\u001b[0;34m\u001b[0m\u001b[0m\n",
      "\u001b[0;32m<ipython-input-8-1db194b6b82d>\u001b[0m in \u001b[0;36m__init__\u001b[0;34m(self, p, q)\u001b[0m\n\u001b[1;32m     17\u001b[0m \u001b[0;34m\u001b[0m\u001b[0m\n\u001b[1;32m     18\u001b[0m         \u001b[0;32mif\u001b[0m \u001b[0mq\u001b[0m \u001b[0;34m==\u001b[0m \u001b[0;36m0\u001b[0m\u001b[0;34m:\u001b[0m\u001b[0;34m\u001b[0m\u001b[0m\n\u001b[0;32m---> 19\u001b[0;31m             \u001b[0;32mraise\u001b[0m \u001b[0mZeroDivisionError\u001b[0m\u001b[0;34m(\u001b[0m\u001b[0;34m'denominator is zero'\u001b[0m\u001b[0;34m)\u001b[0m\u001b[0;34m\u001b[0m\u001b[0m\n\u001b[0m\u001b[1;32m     20\u001b[0m \u001b[0;34m\u001b[0m\u001b[0m\n\u001b[1;32m     21\u001b[0m         \u001b[0mg\u001b[0m \u001b[0;34m=\u001b[0m \u001b[0mgcd\u001b[0m\u001b[0;34m(\u001b[0m\u001b[0mp\u001b[0m\u001b[0;34m,\u001b[0m \u001b[0mq\u001b[0m\u001b[0;34m)\u001b[0m\u001b[0;34m\u001b[0m\u001b[0m\n",
      "\u001b[0;31mZeroDivisionError\u001b[0m: denominator is zero"
     ]
    }
   ],
   "source": [
    "new_rational = Rational(1,0) + Rational(3,4)\n",
    "print(new_rational)"
   ]
  },
  {
   "cell_type": "code",
   "execution_count": 11,
   "metadata": {},
   "outputs": [
    {
     "ename": "ZeroDivisionError",
     "evalue": "denominator is zero",
     "output_type": "error",
     "traceback": [
      "\u001b[0;31m---------------------------------------------------------------------------\u001b[0m",
      "\u001b[0;31mZeroDivisionError\u001b[0m                         Traceback (most recent call last)",
      "\u001b[0;32m<ipython-input-11-980eabbdbaa3>\u001b[0m in \u001b[0;36m<module>\u001b[0;34m()\u001b[0m\n\u001b[0;32m----> 1\u001b[0;31m \u001b[0mRational\u001b[0m\u001b[0;34m(\u001b[0m\u001b[0;36m3\u001b[0m\u001b[0;34m,\u001b[0m\u001b[0;36m0\u001b[0m\u001b[0;34m)\u001b[0m\u001b[0;34m\u001b[0m\u001b[0m\n\u001b[0m",
      "\u001b[0;32m<ipython-input-8-1db194b6b82d>\u001b[0m in \u001b[0;36m__init__\u001b[0;34m(self, p, q)\u001b[0m\n\u001b[1;32m     17\u001b[0m \u001b[0;34m\u001b[0m\u001b[0m\n\u001b[1;32m     18\u001b[0m         \u001b[0;32mif\u001b[0m \u001b[0mq\u001b[0m \u001b[0;34m==\u001b[0m \u001b[0;36m0\u001b[0m\u001b[0;34m:\u001b[0m\u001b[0;34m\u001b[0m\u001b[0m\n\u001b[0;32m---> 19\u001b[0;31m             \u001b[0;32mraise\u001b[0m \u001b[0mZeroDivisionError\u001b[0m\u001b[0;34m(\u001b[0m\u001b[0;34m'denominator is zero'\u001b[0m\u001b[0;34m)\u001b[0m\u001b[0;34m\u001b[0m\u001b[0m\n\u001b[0m\u001b[1;32m     20\u001b[0m \u001b[0;34m\u001b[0m\u001b[0m\n\u001b[1;32m     21\u001b[0m         \u001b[0mg\u001b[0m \u001b[0;34m=\u001b[0m \u001b[0mgcd\u001b[0m\u001b[0;34m(\u001b[0m\u001b[0mp\u001b[0m\u001b[0;34m,\u001b[0m \u001b[0mq\u001b[0m\u001b[0;34m)\u001b[0m\u001b[0;34m\u001b[0m\u001b[0m\n",
      "\u001b[0;31mZeroDivisionError\u001b[0m: denominator is zero"
     ]
    }
   ],
   "source": [
    "Rational(3,0)"
   ]
  }
 ],
 "metadata": {
  "kernelspec": {
   "display_name": "Python 3",
   "language": "python",
   "name": "python3"
  },
  "language_info": {
   "codemirror_mode": {
    "name": "ipython",
    "version": 3
   },
   "file_extension": ".py",
   "mimetype": "text/x-python",
   "name": "python",
   "nbconvert_exporter": "python",
   "pygments_lexer": "ipython3",
   "version": "3.6.4"
  }
 },
 "nbformat": 4,
 "nbformat_minor": 2
}
