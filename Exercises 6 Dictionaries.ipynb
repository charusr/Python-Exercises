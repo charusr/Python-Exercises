{
 "cells": [
  {
   "cell_type": "code",
   "execution_count": 8,
   "metadata": {},
   "outputs": [],
   "source": [
    "# 6.1 Print Dictionaries\n",
    "\n",
    "def printDictionary (dict):\n",
    "    \n",
    "    for k,v in dict.items():\n",
    "        print(k, \":\", v)"
   ]
  },
  {
   "cell_type": "code",
   "execution_count": 7,
   "metadata": {},
   "outputs": [
    {
     "name": "stdout",
     "output_type": "stream",
     "text": [
      "first : value 1\n",
      "second : value 2\n"
     ]
    }
   ],
   "source": [
    "dict = {\n",
    "    \n",
    "    \"first\": \"value 1\",\n",
    "    \"second\": \"value 2\"\n",
    "}\n",
    "\n",
    "printDictionary(dict)"
   ]
  },
  {
   "cell_type": "code",
   "execution_count": 91,
   "metadata": {},
   "outputs": [],
   "source": [
    "# 6.2 Histogram\n",
    "\n",
    "def dictHist (hList):\n",
    "    \n",
    "    hist = {}\n",
    "    \n",
    "    for elem in hList:  \n",
    "        if elem not in hist: \n",
    "            hist[elem] = 0\n",
    "        hist[elem] += 1\n",
    "    \n",
    "    return hist"
   ]
  },
  {
   "cell_type": "code",
   "execution_count": 92,
   "metadata": {},
   "outputs": [
    {
     "data": {
      "text/plain": [
       "{1: 1, 2: 2, 3: 2, 4: 1, 5: 3, 6: 1}"
      ]
     },
     "execution_count": 92,
     "metadata": {},
     "output_type": "execute_result"
    }
   ],
   "source": [
    "hList = [1, 2, 3, 3, 4, 2, 5, 5, 5, 6]\n",
    "dictHist(hList)"
   ]
  },
  {
   "cell_type": "code",
   "execution_count": 111,
   "metadata": {},
   "outputs": [],
   "source": [
    "# 6.3 Get Method \n",
    "\n",
    "def getValue (hList):\n",
    "    \n",
    "    hist = {}\n",
    "    \n",
    "    for elem in hList: \n",
    "        \n",
    "        if hist.get(elem, 'default') == 'default':  \n",
    "            hist[elem] = 0\n",
    "        hist[elem] += 1\n",
    "        \n",
    "    return hist"
   ]
  },
  {
   "cell_type": "code",
   "execution_count": 112,
   "metadata": {},
   "outputs": [
    {
     "data": {
      "text/plain": [
       "{1: 1, 2: 2, 3: 2, 4: 1, 5: 3, 6: 1}"
      ]
     },
     "execution_count": 112,
     "metadata": {},
     "output_type": "execute_result"
    }
   ],
   "source": [
    "hList = [1, 2, 3, 3, 4, 2, 5, 5, 5, 6]\n",
    "getValue(hList)\n"
   ]
  },
  {
   "cell_type": "code",
   "execution_count": null,
   "metadata": {},
   "outputs": [],
   "source": [
    "# 6.4 Random Text Generator "
   ]
  },
  {
   "cell_type": "code",
   "execution_count": 77,
   "metadata": {},
   "outputs": [],
   "source": [
    "#6.5 Vector Functions\n",
    "\n",
    "# (a) add two dense vectors \n",
    "\n",
    "def addDenseVect (list1, list2):\n",
    "    \n",
    "    addedVect = []\n",
    "    listLen = len(list1)\n",
    "    \n",
    "    for i in range(0,listLen): \n",
    "        addedVect.append(list1[i] + list2[i])\n",
    "    \n",
    "    print(addedVect)\n",
    "\n",
    "    \n",
    "# (b) multiplies 2 dense vectors (inner product)\n",
    "\n",
    "def multDenseVect (list1, list2):\n",
    "\n",
    "    multVect = []\n",
    "    listLen = len(list1)\n",
    "    \n",
    "    for i in range(0,listLen): \n",
    "        multVect.append(list1[i] * list2[i])\n",
    "    \n",
    "    print(multVect)\n",
    "    \n",
    "# (c) add 2 sparse vectors  \n",
    "\n",
    "def addSparseVect (dict1, dict2):\n",
    "\n",
    "    addedSparseVect = {}\n",
    "    \n",
    "    for k in dict1.keys():\n",
    "        addedSparseVect[k] = dict1.get(k) + dict2.get(k)\n",
    "    printDictionary(addedSparseVect)\n",
    "\n",
    "# (d)  multiple 2 sparse vectors \n",
    "\n",
    "def multSparseVect (dict1, dict2): \n",
    "    \n",
    "    multSparseDict= {}\n",
    "    \n",
    "    for k in dict1.keys():\n",
    "        multSparseDict[k] = dict1.get(k) * dict2.get(k)\n",
    "    printDictionary(multSparseDict)\n",
    "    \n",
    "# (e) add sparse and dense vector \n",
    "\n",
    "def addSparseAndDense (dict1, list1):\n",
    "    \n",
    "    addVect = []\n",
    "    \n",
    "    for k in dict1.keys():\n",
    "        addVect.append(dict1.get(k) + list1[k])\n",
    "    \n",
    "    print(addVect)\n",
    "    \n",
    "\n",
    "# (f) mulitple sparse and dense vector \n",
    "\n",
    "def multSparseAndDense (dict1, list1):\n",
    "    \n",
    "    multVect = []\n",
    "    \n",
    "    for k in dict1.keys():\n",
    "        multVect.append(dict1.get(k) * list1[k])\n",
    "    \n",
    "    print(multVect)"
   ]
  },
  {
   "cell_type": "code",
   "execution_count": 78,
   "metadata": {},
   "outputs": [
    {
     "name": "stdout",
     "output_type": "stream",
     "text": [
      "[5, 7, 9]\n",
      "[4, 10, 18]\n",
      "0 : 5\n",
      "1 : 7\n",
      "2 : 9\n",
      "0 : 4\n",
      "1 : 10\n",
      "2 : 18\n",
      "[2, 4, 6]\n",
      "[16, 25, 36]\n"
     ]
    }
   ],
   "source": [
    "list1 = [1, 2, 3]\n",
    "list2 = [4, 5, 6]\n",
    "\n",
    "addDenseVect(list1, list2)\n",
    "multDenseVect(list1, list2)\n",
    "\n",
    "dict1 = {\n",
    "    0:1,\n",
    "    1:2,\n",
    "    2:3\n",
    "}\n",
    "\n",
    "dict2 = {\n",
    "    0:4,\n",
    "    1:5,\n",
    "    2:6\n",
    "}\n",
    "\n",
    "addSparseVect(dict1, dict2)\n",
    "multSparseVect(dict1, dict2)\n",
    "\n",
    "addSparseAndDense(dict1, list1)\n",
    "multSparseAndDense(dict2, list2)"
   ]
  },
  {
   "cell_type": "code",
   "execution_count": 103,
   "metadata": {},
   "outputs": [],
   "source": [
    "# 6.6 Reverse Look-up\n",
    "\n",
    "#finds the key for a given value in a dictionary \n",
    "\n",
    "def reverseLookUp (dict1, value):\n",
    "    \n",
    "    for k in dict1.keys():\n",
    "        if dict1.get(k) == value:\n",
    "            return k"
   ]
  },
  {
   "cell_type": "code",
   "execution_count": 106,
   "metadata": {},
   "outputs": [
    {
     "data": {
      "text/plain": [
       "2"
      ]
     },
     "execution_count": 106,
     "metadata": {},
     "output_type": "execute_result"
    }
   ],
   "source": [
    "reverseLookUp (dict1, 3)"
   ]
  },
  {
   "cell_type": "code",
   "execution_count": null,
   "metadata": {},
   "outputs": [],
   "source": []
  }
 ],
 "metadata": {
  "kernelspec": {
   "display_name": "Python 3",
   "language": "python",
   "name": "python3"
  },
  "language_info": {
   "codemirror_mode": {
    "name": "ipython",
    "version": 3
   },
   "file_extension": ".py",
   "mimetype": "text/x-python",
   "name": "python",
   "nbconvert_exporter": "python",
   "pygments_lexer": "ipython3",
   "version": "3.6.4"
  }
 },
 "nbformat": 4,
 "nbformat_minor": 2
}
